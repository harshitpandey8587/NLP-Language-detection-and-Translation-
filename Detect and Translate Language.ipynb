{
 "cells": [
  {
   "cell_type": "markdown",
   "metadata": {},
   "source": [
    "# This file contains the code: How to detect any language and then translate the text to any other language.\n",
    "We will be using up two packages :\n",
    "one is langdetect python package.\n",
    "another is google_trans_new for translation."
   ]
  },
  {
   "cell_type": "code",
   "execution_count": 1,
   "metadata": {},
   "outputs": [
    {
     "name": "stdout",
     "output_type": "stream",
     "text": [
      "Collecting langdetect\n",
      "  Downloading langdetect-1.0.9.tar.gz (981 kB)\n",
      "Requirement already satisfied: six in c:\\users\\harsh\\anaconda3\\lib\\site-packages (from langdetect) (1.15.0)\n",
      "Building wheels for collected packages: langdetect\n",
      "  Building wheel for langdetect (setup.py): started\n",
      "  Building wheel for langdetect (setup.py): finished with status 'done'\n",
      "  Created wheel for langdetect: filename=langdetect-1.0.9-py3-none-any.whl size=993221 sha256=8d0ee1fda867d61bb4e077f22127a1e37c10629c1081ca16b15cfd1d6ee0b9d9\n",
      "  Stored in directory: c:\\users\\harsh\\appdata\\local\\pip\\cache\\wheels\\13\\c7\\b0\\79f66658626032e78fc1a83103690ef6797d551cb22e56e734\n",
      "Successfully built langdetect\n",
      "Installing collected packages: langdetect\n",
      "Successfully installed langdetect-1.0.9\n"
     ]
    }
   ],
   "source": [
    "!pip install langdetect"
   ]
  },
  {
   "cell_type": "code",
   "execution_count": 4,
   "metadata": {},
   "outputs": [
    {
     "name": "stdout",
     "output_type": "stream",
     "text": [
      "de\n"
     ]
    }
   ],
   "source": [
    "#We are going to pass a statement in some foreign Lang.\n",
    "#Lets see how langdetect comes up to this.\n",
    "\n",
    "from langdetect import detect\n",
    "\n",
    "sentence = \"Die Situation von Covid 19 ist in Deutschland sehr schlecht.\"\n",
    "\n",
    "print(detect(sentence))"
   ]
  },
  {
   "cell_type": "markdown",
   "metadata": {},
   "source": [
    "As we can see the output is de.\n",
    "German language is denoted by de.\n"
   ]
  },
  {
   "cell_type": "code",
   "execution_count": 6,
   "metadata": {},
   "outputs": [
    {
     "name": "stdout",
     "output_type": "stream",
     "text": [
      "[de:0.999997877936233]\n"
     ]
    }
   ],
   "source": [
    "#We can also find out the probablities of the predicted Language.\n",
    "\n",
    "from langdetect import detect_langs\n",
    "\n",
    "sentence = \"Die Situation von Covid 19 ist in Deutschland sehr schlecht.\"\n",
    "\n",
    "print(detect_langs(sentence))"
   ]
  },
  {
   "cell_type": "markdown",
   "metadata": {},
   "source": [
    "Now we will try to translate the same in English Language.\n",
    "Before that we will install google_trans_new package in our base environment"
   ]
  },
  {
   "cell_type": "code",
   "execution_count": 7,
   "metadata": {},
   "outputs": [
    {
     "name": "stdout",
     "output_type": "stream",
     "text": [
      "Collecting google_trans_new\n",
      "  Downloading google_trans_new-1.1.9-py3-none-any.whl (9.2 kB)\n",
      "Installing collected packages: google-trans-new\n",
      "Successfully installed google-trans-new-1.1.9\n"
     ]
    }
   ],
   "source": [
    "!pip install google_trans_new"
   ]
  },
  {
   "cell_type": "code",
   "execution_count": 8,
   "metadata": {},
   "outputs": [
    {
     "name": "stdout",
     "output_type": "stream",
     "text": [
      "The situation of Covid 19 is very bad in Germany. \n"
     ]
    }
   ],
   "source": [
    "from google_trans_new import google_translator\n",
    "\n",
    "translator = google_translator()\n",
    "\n",
    "sentence = \"Die Situation von Covid 19 ist in Deutschland sehr schlecht.\"\n",
    "translate_text = translator.translate(sentence,lang_tgt='en') \n",
    "\n",
    "print(translate_text)"
   ]
  },
  {
   "cell_type": "markdown",
   "metadata": {},
   "source": [
    "we saw that we can easily identify the language and translate the same to any other language as per our choice."
   ]
  },
  {
   "cell_type": "markdown",
   "metadata": {},
   "source": [
    "# Taking a german news article from the web in translating it in english."
   ]
  },
  {
   "cell_type": "code",
   "execution_count": 14,
   "metadata": {},
   "outputs": [
    {
     "name": "stdout",
     "output_type": "stream",
     "text": [
      "We and our partners use and store confidential data from their device such as cookies or a unique device ID and we process personal data such as IP addresses and cookie identifiers for data processing purposes, eg. For example, the display of personalized displays, the measurement of the preferences of our visitors, etc. You can change your settings at any time in our privacy policy on this website. Some partners do not ask for their approval of processing their data and rely on their legitimate business interest. You can object to this data processing by clicking on \"More info\". \n"
     ]
    }
   ],
   "source": [
    "\n",
    "from google_trans_new import google_translator\n",
    "\n",
    "translator = google_translator()\n",
    "\n",
    "sentence = \"Wir und unsere Partner nutzen und speichern vertrauliche Daten von Ihrem Gerät wie Cookies oder eine eindeutige Gerätekennung und wir verarbeiten personenbezogene Daten wie IP-Adressen und Cookie-Kennungen zum Zwecke der Datenverarbeitung, z. B. die Anzeige personalisierter Anzeigen, die Messung der Präferenzen unserer Besucher usw. Sie können Ihre Einstellungen jederzeit in unseren Datenschutzrichtlinie auf dieser Website ändern.Einige Partner bitten Sie nicht um Ihre Zustimmung zur Verarbeitung Ihrer Daten und verlassen sich auf deren berechtigtes Geschäftsinteresse. Sie können dieser Datenverarbeitung widersprechen, indem Sie auf „Mehr Infos“ klicken.\"\n",
    "translate_text = translator.translate(sentence,lang_tgt='en') \n",
    "\n",
    "print(translate_text)"
   ]
  },
  {
   "cell_type": "markdown",
   "metadata": {},
   "source": [
    "# Trying identifying French Language."
   ]
  },
  {
   "cell_type": "code",
   "execution_count": 15,
   "metadata": {},
   "outputs": [
    {
     "name": "stdout",
     "output_type": "stream",
     "text": [
      "fr\n"
     ]
    }
   ],
   "source": [
    "\n",
    "sentence = \"Il s’agit d’une part des cookies qui garantissent le bon fonctionnement du site du Monde et permettent son optimisation. Le site Web ne peut pas fonctionner correctement sans ces cookies. Il s’agit également des cookies nous permettant de limiter vos accès et vos utilisations des articles à ce qui est prévu par votre contrat d’abonnement et nos conditions générales de vente. Il s’agit d’autre part des cookies AT Internet, qui bénéficient d’une exemption de consentement et qui permettent de mesurer l’audience de notre site\"\n",
    "\n",
    "print(detect(sentence))"
   ]
  },
  {
   "cell_type": "markdown",
   "metadata": {},
   "source": [
    "# #Taking a French news article from the web in translating it in english."
   ]
  },
  {
   "cell_type": "code",
   "execution_count": 18,
   "metadata": {},
   "outputs": [
    {
     "name": "stdout",
     "output_type": "stream",
     "text": [
      "It is on the one hand cookies that guarantee the proper functioning of the site of the world and allow its optimization. The website can not work properly without these cookies. It is also cookies allowing us to limit your access and use of items to what is provided by your subscription contract and our general conditions of sale. It is the Internet cookies at the Internet, which benefit from an exemption from consent and to measure the hearing of our site. \n"
     ]
    }
   ],
   "source": [
    "from google_trans_new import google_translator\n",
    "\n",
    "translator = google_translator()\n",
    "\n",
    "sentence = \"Il s’agit d’une part des cookies qui garantissent le bon fonctionnement du site du Monde et permettent son optimisation. Le site Web ne peut pas fonctionner correctement sans ces cookies. Il s’agit également des cookies nous permettant de limiter vos accès et vos utilisations des articles à ce qui est prévu par votre contrat d’abonnement et nos conditions générales de vente. Il s’agit d’autre part des cookies AT Internet, qui bénéficient d’une exemption de consentement et qui permettent de mesurer l’audience de notre site.\"\n",
    "translate_text = translator.translate(sentence,lang_tgt='en') \n",
    "\n",
    "print(translate_text)"
   ]
  },
  {
   "cell_type": "code",
   "execution_count": null,
   "metadata": {},
   "outputs": [],
   "source": []
  }
 ],
 "metadata": {
  "kernelspec": {
   "display_name": "Python 3",
   "language": "python",
   "name": "python3"
  },
  "language_info": {
   "codemirror_mode": {
    "name": "ipython",
    "version": 3
   },
   "file_extension": ".py",
   "mimetype": "text/x-python",
   "name": "python",
   "nbconvert_exporter": "python",
   "pygments_lexer": "ipython3",
   "version": "3.8.3"
  }
 },
 "nbformat": 4,
 "nbformat_minor": 4
}
